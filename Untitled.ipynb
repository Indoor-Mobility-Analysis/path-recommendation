{
 "cells": [
  {
   "cell_type": "code",
   "execution_count": 3,
   "metadata": {},
   "outputs": [
    {
     "data": {
      "text/html": [
       "<script>\n",
       "code_show=true; \n",
       "function code_toggle() {\n",
       " if (code_show){\n",
       " $('div.input').hide();\n",
       " } else {\n",
       " $('div.input').show();\n",
       " }\n",
       " code_show = !code_show\n",
       "} \n",
       "$( document ).ready(code_toggle);\n",
       "</script>\n",
       "The raw code for this IPython notebook is by default hidden for easier reading.\n",
       "To toggle on/off the raw code, click <a href=\"javascript:code_toggle()\">here</a>."
      ],
      "text/plain": [
       "<IPython.core.display.HTML object>"
      ]
     },
     "execution_count": 3,
     "metadata": {},
     "output_type": "execute_result"
    }
   ],
   "source": [
    "from IPython.display import HTML\n",
    "HTML('''<script>\n",
    "code_show=true; \n",
    "function code_toggle() {\n",
    " if (code_show){\n",
    " $('div.input').hide();\n",
    " } else {\n",
    " $('div.input').show();\n",
    " }\n",
    " code_show = !code_show\n",
    "} \n",
    "$( document ).ready(code_toggle);\n",
    "</script>\n",
    "The raw code for this IPython notebook is by default hidden for easier reading.\n",
    "To toggle on/off the raw code, click <a href=\"javascript:code_toggle()\">here</a>.''')\n"
   ]
  },
  {
   "cell_type": "code",
   "execution_count": 60,
   "metadata": {
    "collapsed": true
   },
   "outputs": [],
   "source": [
    "import pandas as pd\n",
    "import json\n",
    "import codecs\n",
    "import numpy as np\n",
    "from find_exit import FindExit\n",
    "from density_generation import DMap\n",
    "from matplotlib import pyplot as plt\n",
    "from copy import copy\n",
    "from path_finder import  AStarDynamic, AStarStatic\n",
    "%matplotlib inline"
   ]
  },
  {
   "cell_type": "code",
   "execution_count": 61,
   "metadata": {
    "collapsed": true
   },
   "outputs": [],
   "source": [
    "data = []\n",
    "with codecs.open('../map_data/people_activity_0524.json','rU','utf-8') as f:\n",
    "    for line in f:\n",
    "        data.append(json.loads(line))"
   ]
  },
  {
   "cell_type": "code",
   "execution_count": 76,
   "metadata": {
    "collapsed": true
   },
   "outputs": [],
   "source": [
    "# get map_data\n",
    "# map_data = pd.read_csv('../map_data/mask_floor0.csv', header=None)\n",
    "map_data = pd.read_csv('./new_map/mask_floor0.csv', header=None, sep=' ')\n",
    "map_data = np.array(-(map_data - 1)).astype(int)"
   ]
  },
  {
   "cell_type": "code",
   "execution_count": 77,
   "metadata": {
    "collapsed": true
   },
   "outputs": [],
   "source": [
    "# get exit_list\n",
    "# 注意这里的xy坐标并不是矩阵的index, 后面要进行转换.\n",
    "exits = pd.read_csv('../map_data/exit_floor0.csv',header=None, )\n",
    "exits = exits.T\n",
    "\n",
    "# 坐标-->索引\n",
    "exits[0] = exits[0].astype(float)\n",
    "exits[1] = 230 - exits[1].astype(float)\n",
    "\n",
    "exit_list = np.array(exits.ix[:,[1,0]]).astype(int) #令0-230的在前面\n",
    "map_data = expand_exits(exit_list, map_data)"
   ]
  },
  {
   "cell_type": "code",
   "execution_count": 79,
   "metadata": {
    "collapsed": true
   },
   "outputs": [],
   "source": [
    "# get cluster_list\n",
    "# 注意这里的xy坐标并不是矩阵的index, 后面要进行转换.\n",
    "small_cluster = data[2]['small_clusters']\n",
    "\n",
    "small_cluster = pd.DataFrame(small_cluster)\n",
    "small_cluster = small_cluster[small_cluster[4] > 0]\n",
    "small_cluster.index = range(len(small_cluster))\n",
    "\n",
    "# 坐标-->索引\n",
    "small_cluster[0] = small_cluster[0] \n",
    "small_cluster[1] = 230 - small_cluster[1]\n",
    "\n",
    "cluster_list = np.array(small_cluster[[1,0]]).astype(int)\n",
    "cl = zip(cluster_list.tolist(), small_cluster[4]) # cl = [([197, 9], 1.0),...,([],1.0)]"
   ]
  },
  {
   "cell_type": "code",
   "execution_count": 80,
   "metadata": {
    "collapsed": true
   },
   "outputs": [],
   "source": [
    "# 创建初始状态密度图\n",
    "M = DMap(sigma=10)\n",
    "# density_map这个函数是按照small_cluster的xy写的\n",
    "# x是0-50,y是0-230\n",
    "crowd_density = M.density_map(map_data.shape, small_cluster, crowd=True)\n",
    "\n",
    "# exits_list的x大,y小,所以xy坐标需要换一下位置, \n",
    "exits_density = M.density_map(map_data.shape, pd.DataFrame(exit_list[:,[1,0]]), sigma=5)"
   ]
  },
  {
   "cell_type": "markdown",
   "metadata": {},
   "source": [
    "# 出口选择"
   ]
  },
  {
   "cell_type": "code",
   "execution_count": 81,
   "metadata": {
    "collapsed": true
   },
   "outputs": [],
   "source": [
    "# find exits for each cluster\n",
    "exit_finder = FindExit(k_attr=500, k_repul=100,sigma_attr=50, sigma_repul=50)\n",
    "exits_matched = pd.DataFrame(exit_finder.find_exit_for_all(cl, exit_list.tolist()))"
   ]
  },
  {
   "cell_type": "code",
   "execution_count": 82,
   "metadata": {
    "collapsed": true
   },
   "outputs": [],
   "source": [
    "exits_matched = pd.concat([small_cluster, exits_matched], axis=1, ignore_index=True)"
   ]
  },
  {
   "cell_type": "code",
   "execution_count": 83,
   "metadata": {},
   "outputs": [
    {
     "data": {
      "text/plain": [
       "<matplotlib.image.AxesImage at 0x7ff0fcd793d0>"
      ]
     },
     "execution_count": 83,
     "metadata": {},
     "output_type": "execute_result"
    },
    {
     "data": {
      "image/png": "[encoded data removed]",
      "text/plain": [
       "<matplotlib.figure.Figure at 0x7ff0fcec4150>"
      ]
     },
     "metadata": {},
     "output_type": "display_data"
    }
   ],
   "source": [
    "# 进行画图\n",
    "plt.rcParams['figure.figsize'] = (10,10) \n",
    "plt.rcParams['image.interpolation'] = 'nearest' \n",
    "plt.scatter(small_cluster[0], small_cluster[1])\n",
    "\n",
    "plt.scatter(exits[0], exits[1])\n",
    "\n",
    "# plot the simple path\n",
    "# yy is the results of find_exit and concate with small cluster\n",
    "p = exits_matched[[0,7]]\n",
    "q = exits_matched[[1,6]]\n",
    "for i in range(len(p)):\n",
    "    x1 = list(p.iloc[i])\n",
    "    y1 = list(q.iloc[i])\n",
    "    plt.plot(x1, y1,c='w', linestyle='--')\n",
    "    \n",
    "# plt.imshow(map_data, cmap='gray')\n",
    "# plt.imshow(5*crowd_density- 0.001*map_data - 4*exits_density)\n",
    "plt.imshow(M.normlize(map_data), alpha=0.8, cmap='gray')\n",
    "plt.imshow(M.normlize(crowd_density-exits_density), alpha=0.8,)"
   ]
  },
  {
   "cell_type": "markdown",
   "metadata": {},
   "source": [
    "# 路径推荐"
   ]
  },
  {
   "cell_type": "code",
   "execution_count": 84,
   "metadata": {
    "collapsed": true
   },
   "outputs": [],
   "source": [
    "from diagonal_movement import DiagonalMovement\n",
    "from grid import Grid\n",
    "from a_star import AStarFinder"
   ]
  },
  {
   "cell_type": "code",
   "execution_count": 85,
   "metadata": {
    "collapsed": true
   },
   "outputs": [],
   "source": [
    "show_data = (crowd_density-exits_density) # density的图"
   ]
  },
  {
   "cell_type": "code",
   "execution_count": 86,
   "metadata": {
    "collapsed": true
   },
   "outputs": [],
   "source": [
    "# start_list [(197, 9),(119, 41),] 大的在坐标前面\n",
    "start_list1 = [tuple(small_cluster[[1,0]].iloc[i]) for i in range(len(small_cluster))]\n",
    "\n",
    "# end_list [(162, 16), (146, 37),] \n",
    "end_list1 = [tuple(exits_matched[[6,7]].astype(int).iloc[i]+2) for i in range(len(exits_matched))]"
   ]
  },
  {
   "cell_type": "code",
   "execution_count": 87,
   "metadata": {
    "collapsed": true
   },
   "outputs": [],
   "source": [
    "# 只有周边都没有障碍物才能进行对角线移动\n",
    "finder = AStarFinder(diagonal_movement=DiagonalMovement.only_when_no_obstacle, weight=1)\n",
    "\n",
    "# start_end是每个small_cluster的位置, 以及对应的exit坐标\n",
    "# [((197, 9), (162, 16)), ((119, 41), (146, 37)),]\n",
    "start_end = zip(start_list1, end_list1)"
   ]
  },
  {
   "cell_type": "markdown",
   "metadata": {},
   "source": [
    "# 静态的, 传统的A-star"
   ]
  },
  {
   "cell_type": "code",
   "execution_count": 88,
   "metadata": {
    "collapsed": true
   },
   "outputs": [],
   "source": [
    "# 利用a-star来寻找路径\n",
    "paths = []\n",
    "path_sep = []\n",
    "for s, end_node in start_end:\n",
    "    grid = Grid(matrix=map_data.tolist(), density=show_data*0)\n",
    "    start = grid.node(s[1], s[0])\n",
    "    end = grid.node(end_node[1], end_node[0])\n",
    "    \n",
    "    path, runs = finder.find_path(start, end, grid)\n",
    "#     print len(path)\n",
    "    paths.extend(path)\n",
    "    path_sep.append(path)"
   ]
  },
  {
   "cell_type": "code",
   "execution_count": 91,
   "metadata": {
    "collapsed": true
   },
   "outputs": [
    {
     "name": "stdout",
     "output_type": "stream",
     "text": [
      "36\n",
      "28\n",
      "56\n",
      "40\n",
      "37\n",
      "40\n",
      "0\n",
      "46\n",
      "0\n",
      "35\n",
      "29\n",
      "27\n",
      "24\n",
      "23\n"
     ]
    }
   ],
   "source": [
    "for p in path_sep:\n",
    "    print len(p)"
   ]
  },
  {
   "cell_type": "code",
   "execution_count": 92,
   "metadata": {},
   "outputs": [
    {
     "data": {
      "image/png": "[encoded data removed]",
      "text/plain": [
       "<matplotlib.figure.Figure at 0x7ff0fc4ed690>"
      ]
     },
     "metadata": {},
     "output_type": "display_data"
    }
   ],
   "source": [
    "plt.rcParams['figure.figsize'] = (10,10) \n",
    "\n",
    "plt.scatter(small_cluster[0], small_cluster[1])\n",
    "\n",
    "plt.scatter(exits[0], exits[1])\n",
    "\n",
    "#plt.scatter(y[0], y[1], c='green')\n",
    "\n",
    "# 画出路径\n",
    "for p in path_sep:\n",
    "    p = np.array(p).T\n",
    "    try:\n",
    "        plt.plot(p[0], p[1],c='w', linestyle=':' )\n",
    "    except:\n",
    "        pass\n",
    "show_data = crowd_density-exits_density\n",
    "masked_data = np.ma.masked_where(map_data==1, show_data)\n",
    "\n",
    "plt.imshow(map_data, cmap='PiYG',alpha=0.55)\n",
    "plt.imshow(masked_data, interpolation='none', alpha=0.8)\n",
    "\n",
    "# plt.imshow(map_data, cmap='PiYG',alpha=0.8)\n",
    "# plt.imshow(show_data, alpha=0.7)\n",
    "\n",
    "plt.axis('off')\n",
    "plt.show()"
   ]
  },
  {
   "cell_type": "code",
   "execution_count": null,
   "metadata": {
    "collapsed": true
   },
   "outputs": [],
   "source": []
  },
  {
   "cell_type": "code",
   "execution_count": null,
   "metadata": {
    "collapsed": true
   },
   "outputs": [],
   "source": []
  },
  {
   "cell_type": "markdown",
   "metadata": {},
   "source": [
    "# 动态规划"
   ]
  },
  {
   "cell_type": "code",
   "execution_count": 81,
   "metadata": {
    "collapsed": true
   },
   "outputs": [],
   "source": [
    "start_list1 = [tuple(small_cluster[[1,0]].iloc[i]) for i in range(len(small_cluster))]\n",
    "end_list1 = [tuple(exits_matched[[6,7]].astype(int).iloc[i]+2) for i in range(len(exits_matched))]\n",
    "\n",
    "start_end = zip(start_list1, end_list1)\n",
    "finder = AStarFinder(diagonal_movement=DiagonalMovement.only_when_no_obstacle, weight=1)"
   ]
  },
  {
   "cell_type": "code",
   "execution_count": 60,
   "metadata": {
    "collapsed": true
   },
   "outputs": [],
   "source": [
    "# 创建密度图\n",
    "M = DMap(sigma=10)\n",
    "\n",
    "# density_map这个函数是按照small_cluster的xy写的\n",
    "# x是0-50,y是0-230\n",
    "crowd_density = M.density_map(map_data.shape, small_cluster, crowd=True)\n",
    "\n",
    "# exits_list的x大,y小,所以xy坐标需要换一下位置, \n",
    "exits_density = M.density_map(map_data.shape, pd.DataFrame(exit_list[:,[1,0]]), sigma=5)\n",
    "show_data = crowd_density-exits_density"
   ]
  },
  {
   "cell_type": "code",
   "execution_count": 29,
   "metadata": {
    "collapsed": true
   },
   "outputs": [],
   "source": [
    "small_cluster1 = copy(small_cluster)"
   ]
  },
  {
   "cell_type": "code",
   "execution_count": 30,
   "metadata": {
    "collapsed": true
   },
   "outputs": [],
   "source": [
    "PATHS = []\n",
    "PATHS.append(start_list1)"
   ]
  },
  {
   "cell_type": "markdown",
   "metadata": {},
   "source": [
    "开始while循环"
   ]
  },
  {
   "cell_type": "code",
   "execution_count": 78,
   "metadata": {
    "collapsed": true
   },
   "outputs": [
    {
     "data": {
      "text/plain": [
       "array([[ 125.84,   17.15],\n",
       "       [ 126.75,   17.05],\n",
       "       [ 127.86,   17.02],\n",
       "       [ 128.86,   17.  ],\n",
       "       [ 146.58,   35.86],\n",
       "       [ 145.61,   35.78],\n",
       "       [ 144.66,   35.74],\n",
       "       [ 143.68,   35.65],\n",
       "       [ 139.82,   16.03],\n",
       "       [ 140.87,   15.96],\n",
       "       [ 141.86,   15.92],\n",
       "       [ 142.87,   15.89],\n",
       "       [ 164.59,   37.04],\n",
       "       [ 163.59,   36.97],\n",
       "       [ 162.33,   36.9 ],\n",
       "       [ 157.75,   14.73],\n",
       "       [ 158.79,   14.65],\n",
       "       [ 160.17,   14.54]])"
      ]
     },
     "execution_count": 78,
     "metadata": {},
     "output_type": "execute_result"
    }
   ],
   "source": [
    "exit_list"
   ]
  },
  {
   "cell_type": "code",
   "execution_count": 31,
   "metadata": {
    "collapsed": true
   },
   "outputs": [
    {
     "name": "stdout",
     "output_type": "stream",
     "text": [
      "0\n",
      "10\n",
      "20\n",
      "30\n",
      "40\n",
      "50\n",
      "0:00:23.845157\n"
     ]
    },
    {
     "name": "stderr",
     "output_type": "stream",
     "text": [
      "density_generation.py:26: RuntimeWarning: invalid value encountered in divide\n",
      "  return (density_map - min1) / (max1 - min1)\n"
     ]
    }
   ],
   "source": [
    "from datetime import datetime\n",
    "\n",
    "t1 = datetime.now()\n",
    "\n",
    "j = 0\n",
    "while start_list1 != end_list1:\n",
    "#for j in range(18):\n",
    "\n",
    "    if j%10 ==0:\n",
    "        print j\n",
    "\n",
    "\n",
    "    flag = 0\n",
    "    paths = []\n",
    "    path_sep = []\n",
    "    for s, end_node in start_end:\n",
    "        \n",
    "        if s == end_node:\n",
    "            path = [(s[1],s[0]), (end_node[1], end_node[0])]\n",
    "            flag = 1\n",
    "            \n",
    "        else:\n",
    "            grid = Grid(matrix=map_data.tolist(), density=show_data*1)\n",
    "            start = grid.node(s[1], s[0])\n",
    "            end = grid.node(end_node[1], end_node[0])\n",
    "\n",
    "            path, runs = finder.find_path(start, end, grid)\n",
    "        #     print len(path)\n",
    "        paths.extend(path)\n",
    "        path_sep.append(path)\n",
    "\n",
    "    #----------------\n",
    "    start_list1 = [i[1] for i in path_sep]\n",
    "\n",
    "    # 更新small cluster\n",
    "    small_cluster1[[0,1]] = pd.DataFrame(start_list1)\n",
    "\n",
    "    # 更新start_list\n",
    "    start_list1 = [(i[1], i[0]) for i in start_list1]\n",
    "    PATHS.append(start_list1)\n",
    "\n",
    "    # 更新start_end\n",
    "    start_end = zip(start_list1, end_list1)\n",
    "\n",
    "    # ------------------\n",
    "    # 更新density map\n",
    "    drops = []\n",
    "    if flag == 1:\n",
    "        ind = 0\n",
    "        \n",
    "        for s, e in start_end:\n",
    "            if s == e:\n",
    "                drops.append(ind)\n",
    "            ind +=1\n",
    "    \n",
    "    crowd_density = M.density_map(map_data.shape, small_cluster1.drop(drops, axis=0), crowd=True)\n",
    "    \n",
    "    # 为了好看..完全可以删掉\n",
    "    crowd_density2 = M.density_map(map_data.shape, small_cluster1, crowd=True)\n",
    "    # exits_density = M.density_map(map_data.shape, pd.DataFrame(exit_list[:,[1,0]]), sigma=5)\n",
    "\n",
    "    # 更新 show_data\n",
    "    show_data = crowd_density-exits_density\n",
    "    \n",
    "    j+=1\n",
    "print datetime.now() - t1"
   ]
  },
  {
   "cell_type": "code",
   "execution_count": 32,
   "metadata": {},
   "outputs": [
    {
     "data": {
      "text/plain": [
       "u'/home/homes/ysunbj/code1/find_path/test'"
      ]
     },
     "execution_count": 32,
     "metadata": {},
     "output_type": "execute_result"
    }
   ],
   "source": [
    "pwd"
   ]
  },
  {
   "cell_type": "code",
   "execution_count": 33,
   "metadata": {
    "collapsed": true
   },
   "outputs": [],
   "source": [
    "aaa = pd.DataFrame(PATHS).T"
   ]
  },
  {
   "cell_type": "code",
   "execution_count": 34,
   "metadata": {
    "collapsed": true
   },
   "outputs": [],
   "source": [
    "path_seps = []\n",
    "for l in range(len(aaa)):\n",
    "    p = [(i[1], i[0]) for i in list(aaa.iloc[l])]\n",
    "    path_seps.append(p)"
   ]
  },
  {
   "cell_type": "code",
   "execution_count": 35,
   "metadata": {},
   "outputs": [
    {
     "data": {
      "text/plain": [
       "14"
      ]
     },
     "execution_count": 35,
     "metadata": {},
     "output_type": "execute_result"
    }
   ],
   "source": [
    "len(path_seps)"
   ]
  },
  {
   "cell_type": "code",
   "execution_count": 38,
   "metadata": {},
   "outputs": [
    {
     "data": {
      "image/png": "[encoded data removed]",
      "text/plain": [
       "<matplotlib.figure.Figure at 0x7f007d16bd50>"
      ]
     },
     "metadata": {},
     "output_type": "display_data"
    }
   ],
   "source": [
    "plt.rcParams['figure.figsize'] = (10,10) \n",
    "\n",
    "plt.scatter(small_cluster[0], small_cluster[1])\n",
    "\n",
    "plt.scatter(exits[0], exits[1])\n",
    "\n",
    "#plt.scatter(y[0], y[1], c='green')\n",
    "\n",
    "# 画出路径\n",
    "for p in paths_sep:\n",
    "    p = np.array(p).T\n",
    "    plt.plot(p[0], p[1],c='w', linestyle=':' )\n",
    "\n",
    "show_data = crowd_density-exits_density\n",
    "masked_data = np.ma.masked_where(map_data==1, show_data)\n",
    "\n",
    "plt.imshow(map_data, cmap='PiYG',alpha=0.55)\n",
    "plt.imshow(masked_data, interpolation='none', alpha=0.8)\n",
    "\n",
    "# plt.imshow(map_data, cmap='PiYG',alpha=0.8)\n",
    "# plt.imshow(show_data, alpha=0.7)\n",
    "\n",
    "plt.axis('off')\n",
    "plt.show()"
   ]
  },
  {
   "cell_type": "code",
   "execution_count": 17,
   "metadata": {
    "collapsed": true
   },
   "outputs": [],
   "source": [
    "from path_finder import AStarStatic, AStarDynamic\n",
    "show_data = (crowd_density-exits_density) # density的图\n",
    "start_list1 = [tuple(small_cluster[[1,0]].iloc[i]) for i in range(len(small_cluster))]\n",
    "end_list1 = [tuple(exits_matched[[6,7]].astype(int).iloc[i]+2) for i in range(len(exits_matched))]\n",
    "\n",
    "start_end = zip(start_list1, end_list1)\n",
    "#finder = AStarFinder(diagonal_movement=DiagonalMovement.only_when_no_obstacle, weight=1)"
   ]
  },
  {
   "cell_type": "code",
   "execution_count": 18,
   "metadata": {
    "collapsed": true
   },
   "outputs": [],
   "source": [
    "aa = AStarStatic(map_data, density=show_data)"
   ]
  },
  {
   "cell_type": "code",
   "execution_count": 19,
   "metadata": {
    "collapsed": true
   },
   "outputs": [],
   "source": [
    "paths_sep = aa.find_paths(start_list1, end_list1, weight_d=1)"
   ]
  },
  {
   "cell_type": "code",
   "execution_count": 57,
   "metadata": {},
   "outputs": [
    {
     "name": "stdout",
     "output_type": "stream",
     "text": [
      "0\n",
      "10\n",
      "20\n",
      "30\n",
      "40\n",
      "50\n",
      "0:00:33.119869\n"
     ]
    }
   ],
   "source": [
    "#small_cluster2 = small_cluster.copy()\n",
    "aa = AStarDynamic(map_data, small_cluster, exit_list)\n",
    "\n",
    "paths_sep = aa.find_paths(start_list1, end_list1, print_or_not=True)"
   ]
  },
  {
   "cell_type": "code",
   "execution_count": 59,
   "metadata": {},
   "outputs": [
    {
     "data": {
      "image/png": "[encoded data removed]",
      "text/plain": [
       "<matplotlib.figure.Figure at 0x7ff0fc610310>"
      ]
     },
     "metadata": {},
     "output_type": "display_data"
    }
   ],
   "source": [
    "plt.rcParams['figure.figsize'] = (15,15) \n",
    "\n",
    "plt.scatter( small_cluster[0], small_cluster[1],)\n",
    "\n",
    "plt.scatter(exits[0], exits[1])\n",
    "\n",
    "# 画出路径\n",
    "for p in paths_sep:\n",
    "    p = np.array(p).T\n",
    "    plt.plot(p[0], p[1],c='w', linestyle=':' )\n",
    "\n",
    "show_data = crowd_density-exits_density\n",
    "masked_data = np.ma.masked_where(map_data==1, show_data)\n",
    "\n",
    "plt.imshow(map_data, cmap='PiYG',alpha=0.55)\n",
    "plt.imshow(masked_data, interpolation='none', alpha=0.8)\n",
    "\n",
    "# plt.imshow(map_data, cmap='PiYG',alpha=0.8)\n",
    "# plt.imshow(show_data, alpha=0.7)\n",
    "\n",
    "plt.axis('off')\n",
    "plt.show()"
   ]
  },
  {
   "cell_type": "markdown",
   "metadata": {
    "collapsed": true
   },
   "source": [
    "# 重新处理map_data"
   ]
  },
  {
   "cell_type": "code",
   "execution_count": 1,
   "metadata": {
    "collapsed": true
   },
   "outputs": [],
   "source": [
    "#\n",
    "%load_ext autoreload \n",
    "%autoreload 2 \n",
    "import pandas as pd\n",
    "import json\n",
    "import codecs\n",
    "import numpy as np\n",
    "from find_exit import FindExit\n",
    "from density_generation import DMap\n",
    "from matplotlib import pyplot as plt\n",
    "from copy import copy\n",
    "from path_finder import  AStarDynamic, AStarStatic, relocate_paths_xy\n",
    "from locate_preprocess import relocate_node\n",
    "%matplotlib inline"
   ]
  },
  {
   "cell_type": "code",
   "execution_count": 101,
   "metadata": {
    "scrolled": false
   },
   "outputs": [
    {
     "data": {
      "text/plain": [
       "<matplotlib.image.AxesImage at 0x7ff0fd176a10>"
      ]
     },
     "execution_count": 101,
     "metadata": {},
     "output_type": "execute_result"
    },
    {
     "data": {
      "image/png": "[encoded data removed]",
      "text/plain": [
       "<matplotlib.figure.Figure at 0x7ff0fd176210>"
      ]
     },
     "metadata": {},
     "output_type": "display_data"
    }
   ],
   "source": [
    "# test new map data\n",
    "exits = pd.read_csv('../map_data/exit_floor0.csv',header=None, )\n",
    "exits = exits.T\n",
    "exits[0] = exits[0].astype(float)\n",
    "exits[1] = 230 - exits[1].astype(float)\n",
    "exit_list = np.array(exits.ix[:,[1,0]]) #令0-230的在前面\n",
    "\n",
    "map_data = pd.read_csv('./new_map/mask_floor0.csv', header=None, sep=' ')\n",
    "map_data = np.array(-(map_data - 1)).astype(int)\n",
    "\n",
    "plt.rcParams['figure.figsize'] = (15,15)\n",
    "plt.scatter(exits[0], exits[1])\n",
    "plt.imshow(map_data)"
   ]
  },
  {
   "cell_type": "code",
   "execution_count": 52,
   "metadata": {
    "collapsed": true
   },
   "outputs": [],
   "source": [
    "exit_list = exit_list.astype(int)"
   ]
  },
  {
   "cell_type": "code",
   "execution_count": 53,
   "metadata": {
    "collapsed": true
   },
   "outputs": [],
   "source": [
    "def expand_exits(exit_list, map_data):\n",
    "    for e in exit_list:\n",
    "        i,j = e\n",
    "        wsize = 2\n",
    "        map_data[i, j - wsize:j + wsize + 1] = 0\n",
    "    return map_data"
   ]
  },
  {
   "cell_type": "code",
   "execution_count": 54,
   "metadata": {
    "collapsed": true
   },
   "outputs": [],
   "source": [
    "map_data = expand_exits(exit_list, map_data)"
   ]
  },
  {
   "cell_type": "code",
   "execution_count": 55,
   "metadata": {
    "collapsed": true
   },
   "outputs": [
    {
     "data": {
      "text/plain": [
       "<matplotlib.image.AxesImage at 0x7ff0fc73ff50>"
      ]
     },
     "execution_count": 55,
     "metadata": {},
     "output_type": "execute_result"
    },
    {
     "data": {
      "image/png": "[encoded data removed]",
      "text/plain": [
       "<matplotlib.figure.Figure at 0x7ff0fc85dc90>"
      ]
     },
     "metadata": {},
     "output_type": "display_data"
    }
   ],
   "source": [
    "plt.scatter(exits[0], exits[1])\n",
    "plt.imshow(map_data)"
   ]
  },
  {
   "cell_type": "code",
   "execution_count": 102,
   "metadata": {},
   "outputs": [],
   "source": [
    "from path_finder import get_gradient"
   ]
  },
  {
   "cell_type": "code",
   "execution_count": 103,
   "metadata": {
    "collapsed": true
   },
   "outputs": [],
   "source": [
    "a = get_gradient(map_data)"
   ]
  },
  {
   "cell_type": "code",
   "execution_count": 104,
   "metadata": {
    "collapsed": true
   },
   "outputs": [],
   "source": [
    "a[a>0] = 1"
   ]
  },
  {
   "cell_type": "code",
   "execution_count": 109,
   "metadata": {
    "collapsed": true
   },
   "outputs": [
    {
     "data": {
      "text/plain": [
       "<matplotlib.image.AxesImage at 0x7ff0fd12a990>"
      ]
     },
     "execution_count": 109,
     "metadata": {},
     "output_type": "execute_result"
    },
    {
     "data": {
      "image/png": "[encoded data removed]",
      "text/plain": [
       "<matplotlib.figure.Figure at 0x7ff0fc123590>"
      ]
     },
     "metadata": {},
     "output_type": "display_data"
    }
   ],
   "source": [
    "plt.imshow(a)"
   ]
  },
  {
   "cell_type": "code",
   "execution_count": 111,
   "metadata": {
    "collapsed": true
   },
   "outputs": [],
   "source": [
    "plt.rcParams['figure.figsize'] = (8,8)"
   ]
  },
  {
   "cell_type": "code",
   "execution_count": 121,
   "metadata": {
    "collapsed": true
   },
   "outputs": [
    {
     "data": {
      "text/plain": [
       "<matplotlib.image.AxesImage at 0x7ff0fc933ad0>"
      ]
     },
     "execution_count": 121,
     "metadata": {},
     "output_type": "execute_result"
    },
    {
     "data": {
      "image/png": "[encoded data removed]",
      "text/plain": [
       "<matplotlib.figure.Figure at 0x7ff0fc933b50>"
      ]
     },
     "metadata": {},
     "output_type": "display_data"
    }
   ],
   "source": [
    "plt.scatter(30, 150)\n",
    "plt.imshow(map_data)"
   ]
  },
  {
   "cell_type": "code",
   "execution_count": 139,
   "metadata": {
    "collapsed": true
   },
   "outputs": [
    {
     "data": {
      "text/plain": [
       "[(1, 0),\n",
       " (1, 1),\n",
       " (1, 2),\n",
       " (1, 3),\n",
       " (1, 4),\n",
       " (1, 5),\n",
       " (1, 6),\n",
       " (1, 7),\n",
       " (1, 8),\n",
       " (1, 9),\n",
       " (1, 10),\n",
       " (1, 11),\n",
       " (1, 12),\n",
       " (1, 13),\n",
       " (1, 14),\n",
       " (1, 15),\n",
       " (1, 16),\n",
       " (1, 17),\n",
       " (1, 18),\n",
       " (1, 19),\n",
       " (1, 20),\n",
       " (1, 21),\n",
       " (1, 22),\n",
       " (1, 23),\n",
       " (1, 24),\n",
       " (1, 25),\n",
       " (1, 26),\n",
       " (1, 27),\n",
       " (1, 28),\n",
       " (1, 29),\n",
       " (1, 30),\n",
       " (1, 31),\n",
       " (1, 32),\n",
       " (1, 33),\n",
       " (1, 34),\n",
       " (1, 35),\n",
       " (1, 36),\n",
       " (1, 37),\n",
       " (1, 38),\n",
       " (1, 39),\n",
       " (1, 40),\n",
       " (1, 41),\n",
       " (1, 42),\n",
       " (1, 43),\n",
       " (1, 44),\n",
       " (1, 45),\n",
       " (1, 46),\n",
       " (1, 47),\n",
       " (1, 48),\n",
       " (1, 49),\n",
       " (1, 50),\n",
       " (1, 51),\n",
       " (1, 52),\n",
       " (1, 53),\n",
       " (1, 54),\n",
       " (1, 55),\n",
       " (1, 56),\n",
       " (1, 57),\n",
       " (1, 58),\n",
       " (1, 59),\n",
       " (1, 60),\n",
       " (1, 61),\n",
       " (1, 62),\n",
       " (1, 63),\n",
       " (1, 64),\n",
       " (1, 65),\n",
       " (1, 66),\n",
       " (1, 67),\n",
       " (1, 68),\n",
       " (1, 69),\n",
       " (1, 70),\n",
       " (1, 71),\n",
       " (1, 72),\n",
       " (1, 73),\n",
       " (1, 74),\n",
       " (1, 75),\n",
       " (1, 76),\n",
       " (1, 77),\n",
       " (1, 78),\n",
       " (1, 79),\n",
       " (1, 80),\n",
       " (1, 81),\n",
       " (1, 82),\n",
       " (1, 83),\n",
       " (0, 84),\n",
       " (0, 85),\n",
       " (0, 86),\n",
       " (0, 87),\n",
       " (0, 88),\n",
       " (0, 89),\n",
       " (0, 90),\n",
       " (0, 91),\n",
       " (0, 92),\n",
       " (0, 93),\n",
       " (0, 94),\n",
       " (0, 95),\n",
       " (0, 96),\n",
       " (0, 97),\n",
       " (0, 98),\n",
       " (0, 99),\n",
       " (0, 100),\n",
       " (0, 101),\n",
       " (0, 102),\n",
       " (0, 103),\n",
       " (0, 104),\n",
       " (0, 105),\n",
       " (0, 106),\n",
       " (0, 107),\n",
       " (0, 108),\n",
       " (0, 109),\n",
       " (0, 110),\n",
       " (0, 111),\n",
       " (0, 112),\n",
       " (0, 113),\n",
       " (1, 114),\n",
       " (0, 115),\n",
       " (0, 116),\n",
       " (0, 117),\n",
       " (0, 118),\n",
       " (0, 119),\n",
       " (0, 120),\n",
       " (0, 121),\n",
       " (0, 122),\n",
       " (0, 123),\n",
       " (0, 124),\n",
       " (0, 125),\n",
       " (0, 126),\n",
       " (0, 127),\n",
       " (0, 128),\n",
       " (0, 129),\n",
       " (0, 130),\n",
       " (0, 131),\n",
       " (0, 132),\n",
       " (0, 133),\n",
       " (0, 134),\n",
       " (0, 135),\n",
       " (0, 136),\n",
       " (0, 137),\n",
       " (0, 138),\n",
       " (0, 139),\n",
       " (0, 140),\n",
       " (0, 141),\n",
       " (0, 142),\n",
       " (0, 143),\n",
       " (0, 144),\n",
       " (0, 145),\n",
       " (0, 146),\n",
       " (0, 147),\n",
       " (0, 148),\n",
       " (0, 149),\n",
       " (0, 150),\n",
       " (0, 151),\n",
       " (0, 152),\n",
       " (0, 153),\n",
       " (0, 154),\n",
       " (0, 155),\n",
       " (0, 156),\n",
       " (0, 157),\n",
       " (0, 158),\n",
       " (0, 159),\n",
       " (0, 160),\n",
       " (0, 161),\n",
       " (0, 162),\n",
       " (0, 163),\n",
       " (0, 164),\n",
       " (0, 165),\n",
       " (0, 166),\n",
       " (0, 167),\n",
       " (0, 168),\n",
       " (0, 169),\n",
       " (0, 170),\n",
       " (0, 171),\n",
       " (0, 172),\n",
       " (1, 173),\n",
       " (0, 174),\n",
       " (0, 175),\n",
       " (0, 176),\n",
       " (0, 177),\n",
       " (0, 178),\n",
       " (0, 179),\n",
       " (0, 180),\n",
       " (0, 181),\n",
       " (0, 182),\n",
       " (0, 183),\n",
       " (0, 184),\n",
       " (0, 185),\n",
       " (0, 186),\n",
       " (0, 187),\n",
       " (0, 188),\n",
       " (0, 189),\n",
       " (0, 190),\n",
       " (0, 191),\n",
       " (0, 192),\n",
       " (0, 193),\n",
       " (0, 194),\n",
       " (0, 195),\n",
       " (0, 196),\n",
       " (0, 197),\n",
       " (1, 198),\n",
       " (1, 199),\n",
       " (1, 200),\n",
       " (1, 201),\n",
       " (1, 202),\n",
       " (1, 203),\n",
       " (1, 204),\n",
       " (1, 205),\n",
       " (1, 206),\n",
       " (1, 207),\n",
       " (1, 208),\n",
       " (1, 209),\n",
       " (1, 210),\n",
       " (1, 211),\n",
       " (1, 212),\n",
       " (1, 213),\n",
       " (1, 214),\n",
       " (1, 215),\n",
       " (1, 216),\n",
       " (1, 217),\n",
       " (1, 218),\n",
       " (1, 219),\n",
       " (1, 220),\n",
       " (1, 221),\n",
       " (1, 222),\n",
       " (1, 223),\n",
       " (1, 224),\n",
       " (1, 225),\n",
       " (1, 226),\n",
       " (1, 227),\n",
       " (1, 228),\n",
       " (1, 229)]"
      ]
     },
     "execution_count": 139,
     "metadata": {},
     "output_type": "execute_result"
    }
   ],
   "source": [
    "zip(map_data[:,30],range(230))"
   ]
  },
  {
   "cell_type": "code",
   "execution_count": 154,
   "metadata": {},
   "outputs": [],
   "source": [
    "def check_inside(ij_index, h_0=114, h_1=173):\n",
    "    i, j = ij_index\n",
    "    # 从改点向任意方向引射线, 交点个数是奇数, 则在内部; 偶数在外部.\n",
    "    line = map_data[i,:j+1]\n",
    "    change_point = 0\n",
    "    for p in range(len(line) - 1):\n",
    "        if line[p] != line[p+1]:\n",
    "            change_point +=1\n",
    "    print change_point\n",
    "    if (change_point - 2)>0 and (change_point - 2)%2 != 0 and i > h_0 and i < h_1:\n",
    "        return True\n",
    "    else:\n",
    "        return False  "
   ]
  },
  {
   "cell_type": "code",
   "execution_count": 153,
   "metadata": {},
   "outputs": [
    {
     "name": "stdout",
     "output_type": "stream",
     "text": [
      "3\n"
     ]
    },
    {
     "data": {
      "text/plain": [
       "True"
      ]
     },
     "execution_count": 153,
     "metadata": {},
     "output_type": "execute_result"
    }
   ],
   "source": [
    "check_inside([123,16])"
   ]
  },
  {
   "cell_type": "code",
   "execution_count": 143,
   "metadata": {
    "collapsed": true
   },
   "outputs": [
    {
     "name": "stdout",
     "output_type": "stream",
     "text": [
      "(197, 41) False\n"
     ]
    },
    {
     "data": {
      "image/png": "[encoded data removed]",
      "text/plain": [
       "<matplotlib.figure.Figure at 0x7ff0d89c1650>"
      ]
     },
     "metadata": {},
     "output_type": "display_data"
    },
    {
     "name": "stdout",
     "output_type": "stream",
     "text": [
      "(119, 9) False\n"
     ]
    },
    {
     "data": {
      "image/png": "[encoded data removed]",
      "text/plain": [
       "<matplotlib.figure.Figure at 0x7ff0d8d31cd0>"
      ]
     },
     "metadata": {},
     "output_type": "display_data"
    },
    {
     "name": "stdout",
     "output_type": "stream",
     "text": [
      "(91, 13) False\n"
     ]
    },
    {
     "data": {
      "image/png": "[encoded data removed]",
      "text/plain": [
       "<matplotlib.figure.Figure at 0x7ff0d8a4cb50>"
      ]
     },
     "metadata": {},
     "output_type": "display_data"
    },
    {
     "name": "stdout",
     "output_type": "stream",
     "text": [
      "(88, 13) False\n"
     ]
    },
    {
     "data": {
      "image/png": "[encoded data removed]",
      "text/plain": [
       "<matplotlib.figure.Figure at 0x7ff0d87313d0>"
      ]
     },
     "metadata": {},
     "output_type": "display_data"
    },
    {
     "name": "stdout",
     "output_type": "stream",
     "text": [
      "(91, 16) False\n"
     ]
    },
    {
     "data": {
      "image/png": "[encoded data removed]",
      "text/plain": [
       "<matplotlib.figure.Figure at 0x7ff0d88aa2d0>"
      ]
     },
     "metadata": {},
     "output_type": "display_data"
    },
    {
     "name": "stdout",
     "output_type": "stream",
     "text": [
      "(88, 16) False\n"
     ]
    },
    {
     "data": {
      "image/png": "[encoded data removed]",
      "text/plain": [
       "<matplotlib.figure.Figure at 0x7ff0d88b3c10>"
      ]
     },
     "metadata": {},
     "output_type": "display_data"
    },
    {
     "name": "stdout",
     "output_type": "stream",
     "text": [
      "(199, 30) False\n"
     ]
    },
    {
     "data": {
      "image/png": "[encoded data removed]",
      "text/plain": [
       "<matplotlib.figure.Figure at 0x7ff0d89221d0>"
      ]
     },
     "metadata": {},
     "output_type": "display_data"
    },
    {
     "name": "stdout",
     "output_type": "stream",
     "text": [
      "(196, 30) False\n"
     ]
    },
    {
     "data": {
      "image/png": "[encoded data removed]",
      "text/plain": [
       "<matplotlib.figure.Figure at 0x7ff0d8bced90>"
      ]
     },
     "metadata": {},
     "output_type": "display_data"
    },
    {
     "name": "stdout",
     "output_type": "stream",
     "text": [
      "(199, 33) False\n"
     ]
    },
    {
     "data": {
      "image/png": "[encoded data removed]",
      "text/plain": [
       "<matplotlib.figure.Figure at 0x7ff0d8b53b10>"
      ]
     },
     "metadata": {},
     "output_type": "display_data"
    },
    {
     "name": "stdout",
     "output_type": "stream",
     "text": [
      "(196, 33) False\n"
     ]
    },
    {
     "data": {
      "image/png": "[encoded data removed]",
      "text/plain": [
       "<matplotlib.figure.Figure at 0x7ff0d8415050>"
      ]
     },
     "metadata": {},
     "output_type": "display_data"
    },
    {
     "name": "stdout",
     "output_type": "stream",
     "text": [
      "(110, 21) False\n"
     ]
    },
    {
     "data": {
      "image/png": "[encoded data removed]",
      "text/plain": [
       "<matplotlib.figure.Figure at 0x7ff0d8b690d0>"
      ]
     },
     "metadata": {},
     "output_type": "display_data"
    },
    {
     "name": "stdout",
     "output_type": "stream",
     "text": [
      "(107, 21) False\n"
     ]
    },
    {
     "data": {
      "image/png": "[encoded data removed]",
      "text/plain": [
       "<matplotlib.figure.Figure at 0x7ff0d8b00110>"
      ]
     },
     "metadata": {},
     "output_type": "display_data"
    },
    {
     "name": "stdout",
     "output_type": "stream",
     "text": [
      "(107, 24) False\n"
     ]
    },
    {
     "data": {
      "image/png": "[encoded data removed]",
      "text/plain": [
       "<matplotlib.figure.Figure at 0x7ff0fd2e2b90>"
      ]
     },
     "metadata": {},
     "output_type": "display_data"
    },
    {
     "name": "stdout",
     "output_type": "stream",
     "text": [
      "(123, 16) False\n"
     ]
    },
    {
     "data": {
      "image/png": "[encoded data removed]",
      "text/plain": [
       "<matplotlib.figure.Figure at 0x7ff0d8a86c10>"
      ]
     },
     "metadata": {},
     "output_type": "display_data"
    }
   ],
   "source": [
    "for s in start_list1:\n",
    "    print s, check_inside(s)\n",
    "    plt.scatter(s[1], s[0])\n",
    "    plt.imshow(map_data)\n",
    "    plt.show()"
   ]
  },
  {
   "cell_type": "code",
   "execution_count": 116,
   "metadata": {},
   "outputs": [
    {
     "data": {
      "text/plain": [
       "array([1, 1, 1, 1, 0, 0, 0, 1, 1, 1, 1, 1, 0, 1, 0, 1, 1, 1, 1, 1, 1, 1, 1,\n",
       "       1, 1, 1, 1, 1, 1, 1, 1, 1, 1, 1, 0, 1, 0, 1, 1, 1, 1, 0, 0, 0, 0, 0,\n",
       "       1, 1, 1, 1])"
      ]
     },
     "execution_count": 116,
     "metadata": {},
     "output_type": "execute_result"
    }
   ],
   "source": [
    "1 - a[150,:].astype(int)"
   ]
  },
  {
   "cell_type": "code",
   "execution_count": 135,
   "metadata": {
    "collapsed": true
   },
   "outputs": [
    {
     "data": {
      "text/plain": [
       "[(197, 41),\n",
       " (119, 9),\n",
       " (91, 13),\n",
       " (88, 13),\n",
       " (91, 16),\n",
       " (88, 16),\n",
       " (199, 30),\n",
       " (196, 30),\n",
       " (199, 33),\n",
       " (196, 33),\n",
       " (110, 21),\n",
       " (107, 21),\n",
       " (107, 24),\n",
       " (123, 16)]"
      ]
     },
     "execution_count": 135,
     "metadata": {},
     "output_type": "execute_result"
    }
   ],
   "source": [
    "start_list1"
   ]
  },
  {
   "cell_type": "code",
   "execution_count": 127,
   "metadata": {},
   "outputs": [
    {
     "data": {
      "text/plain": [
       "0"
      ]
     },
     "execution_count": 127,
     "metadata": {},
     "output_type": "execute_result"
    }
   ],
   "source": [
    "0%2"
   ]
  },
  {
   "cell_type": "code",
   "execution_count": 158,
   "metadata": {
    "collapsed": true
   },
   "outputs": [],
   "source": [
    "def test(a):\n",
    "    #print 1\n",
    "    return"
   ]
  },
  {
   "cell_type": "code",
   "execution_count": 162,
   "metadata": {},
   "outputs": [],
   "source": [
    "b = []\n",
    "for i in range(5):\n",
    "    b.append(test(a))"
   ]
  },
  {
   "cell_type": "code",
   "execution_count": 164,
   "metadata": {},
   "outputs": [],
   "source": [
    "b[0]"
   ]
  },
  {
   "cell_type": "code",
   "execution_count": null,
   "metadata": {
    "collapsed": true
   },
   "outputs": [],
   "source": []
  }
 ],
 "metadata": {
  "kernelspec": {
   "display_name": "Python 2",
   "language": "python",
   "name": "python2"
  },
  "language_info": {
   "codemirror_mode": {
    "name": "ipython",
    "version": 2
   },
   "file_extension": ".py",
   "mimetype": "text/x-python",
   "name": "python",
   "nbconvert_exporter": "python",
   "pygments_lexer": "ipython2",
   "version": "2.7.13"
  }
 },
 "nbformat": 4,
 "nbformat_minor": 2
}
