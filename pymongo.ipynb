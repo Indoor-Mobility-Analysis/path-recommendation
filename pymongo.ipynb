{
 "cells": [
  {
   "cell_type": "code",
   "execution_count": null,
   "metadata": {
    "collapsed": true,
    "deletable": true,
    "editable": true
   },
   "outputs": [],
   "source": [
    "from pymongo import MongoClient\n",
    "%load_ext autoreload \n",
    "%autoreload 2 \n",
    "import pandas as pd\n",
    "import json\n",
    "import codecs\n",
    "import numpy as np\n",
    "from find_exit import FindExit\n",
    "from density_generation import DMap\n",
    "from matplotlib import pyplot as plt\n",
    "from copy import copy\n",
    "from path_finder import  AStarDynamic, AStarStatic, relocate_paths_xy\n",
    "from locate_preprocess import relocate_node\n",
    "%matplotlib inline"
   ]
  },
  {
   "cell_type": "code",
   "execution_count": 12,
   "metadata": {
    "collapsed": true,
    "deletable": true,
    "editable": true
   },
   "outputs": [],
   "source": [
    "from bson.objectid import ObjectId"
   ]
  },
  {
   "cell_type": "code",
   "execution_count": 13,
   "metadata": {
    "collapsed": true,
    "deletable": true,
    "editable": true
   },
   "outputs": [],
   "source": [
    "# get map_data\n",
    "map_data = pd.read_csv('../map_data/mask_floor0.csv', header=None)\n",
    "map_data = np.array(-(map_data - 1)).astype(int)\n",
    "# get exit_list\n",
    "# 注意这里的xy坐标并不是矩阵的index, 后面要进行转换.\n",
    "exits = pd.read_csv('../map_data/exit_floor0.csv',header=None, )\n",
    "exits = exits.T\n",
    "\n",
    "# 坐标-->索引\n",
    "exits[0] = exits[0].astype(float)\n",
    "exits[1] = 230 - exits[1].astype(float)\n",
    "\n",
    "exit_list = np.array(exits.ix[:,[1,0]]) #令0-230的在前面"
   ]
  },
  {
   "cell_type": "code",
   "execution_count": 14,
   "metadata": {
    "collapsed": true,
    "deletable": true,
    "editable": true
   },
   "outputs": [],
   "source": [
    "client = MongoClient()\n",
    "\n",
    "db = client.mapping\n",
    "\n",
    "collection = db.people_activity_0524_path"
   ]
  },
  {
   "cell_type": "code",
   "execution_count": 15,
   "metadata": {
    "collapsed": true,
    "deletable": true,
    "editable": true
   },
   "outputs": [],
   "source": [
    "# id_list = []\n",
    "# for post in collection.find():\n",
    "#     id_list.append(post['_id'])"
   ]
  },
  {
   "cell_type": "code",
   "execution_count": 16,
   "metadata": {
    "collapsed": true,
    "deletable": true,
    "editable": true
   },
   "outputs": [],
   "source": [
    "record = collection.find_one()"
   ]
  },
  {
   "cell_type": "code",
   "execution_count": 17,
   "metadata": {
    "collapsed": true,
    "deletable": true,
    "editable": true
   },
   "outputs": [],
   "source": [
    "small_cluster = record['small_clusters']\n",
    "\n",
    "small_cluster = pd.DataFrame(small_cluster)\n",
    "small_cluster = small_cluster[small_cluster[4] > 0]\n",
    "small_cluster.index = range(len(small_cluster))\n",
    "\n",
    "# 坐标-->索引\n",
    "small_cluster[0] = small_cluster[0] \n",
    "small_cluster[1] = 230 - small_cluster[1]\n",
    "\n",
    "cluster_list = np.array(small_cluster[[1,0]]).astype(int)\n",
    "cl = zip(cluster_list.tolist(), small_cluster[4]) # cl = [([197, 9], 1.0),...,([],1.0)]\n",
    "\n",
    "# 创建初始状态密度图\n",
    "M = DMap(sigma=10)\n",
    "# density_map这个函数是按照small_cluster的xy写的\n",
    "# x是0-50,y是0-230\n",
    "crowd_density = M.density_map(map_data.shape, small_cluster, crowd=True)\n",
    "\n",
    "# exits_list的x大,y小,所以xy坐标需要换一下位置, \n",
    "exits_density = M.density_map(map_data.shape, pd.DataFrame(exit_list[:,[1,0]]), sigma=5)\n",
    "show_data = (crowd_density-exits_density) # density的图"
   ]
  },
  {
   "cell_type": "code",
   "execution_count": 18,
   "metadata": {
    "collapsed": true,
    "deletable": true,
    "editable": true
   },
   "outputs": [],
   "source": [
    "# find exits for each cluster\n",
    "exit_finder = FindExit(k_attr=500, k_repul=100,sigma_attr=50, sigma_repul=50)\n",
    "exits_matched = pd.DataFrame(exit_finder.find_exit_for_all(cl, exit_list.tolist()))\n",
    "\n",
    "exits_matched = pd.concat([small_cluster, exits_matched], axis=1, ignore_index=True)\n",
    "\n",
    "start_list1=[relocate_node(tuple(small_cluster[[1,0]].astype(int).iloc[i]), map_data, 1)  for i in range(len(small_cluster))]\n",
    "#end_list1 = [tuple(exits_matched[[6,7]].astype(int).iloc[i]+2) for i in range(len(exits_matched))]\n",
    " \n",
    "start_end = zip(start_list1, end_list1)\n"
   ]
  },
  {
   "cell_type": "code",
   "execution_count": 20,
   "metadata": {
    "collapsed": false,
    "deletable": true,
    "editable": true
   },
   "outputs": [
    {
     "name": "stdout",
     "output_type": "stream",
     "text": [
      "0\n",
      "10\n",
      "20\n",
      "30\n",
      "0:00:10.589422\n"
     ]
    },
    {
     "data": {
      "text/plain": [
       "<matplotlib.image.AxesImage at 0x7f651cd9aed0>"
      ]
     },
     "execution_count": 20,
     "metadata": {},
     "output_type": "execute_result"
    },
    {
     "data": {
      "image/png": "[encoded data removed]",
      "text/plain": [
       "<matplotlib.figure.Figure at 0x7f6549854e10>"
      ]
     },
     "metadata": {},
     "output_type": "display_data"
    }
   ],
   "source": [
    "#small_cluster2 = small_cluster.copy()\n",
    "finder = AStarDynamic(map_data, small_cluster, exit_list,)\n",
    "\n",
    "paths_sep = finder.find_paths(start_list1, end_list1, print_or_not=True, weight_d=1)\n",
    "\n",
    "paths_sep = finder.clean_paths_sep(paths_sep)\n",
    "#_____________________________________________________________\n",
    "plt.rcParams['figure.figsize'] = (10,10) \n",
    "\n",
    "plt.scatter( small_cluster[0], small_cluster[1],)\n",
    "\n",
    "plt.scatter(exits[0], exits[1])\n",
    "\n",
    "# 画出路径\n",
    "for p in paths_sep:\n",
    "    p = np.array(p).T\n",
    "    plt.plot(p[0], p[1],c='w', linestyle=':' )\n",
    "\n",
    "show_data = crowd_density-exits_density\n",
    "masked_data = np.ma.masked_where(map_data==1, show_data)\n",
    "\n",
    "plt.imshow(map_data, cmap='PiYG',alpha=0.55)\n",
    "plt.imshow(masked_data, interpolation='none', alpha=0.8)"
   ]
  },
  {
   "cell_type": "code",
   "execution_count": null,
   "metadata": {
    "collapsed": true,
    "deletable": true,
    "editable": true
   },
   "outputs": [],
   "source": []
  }
 ],
 "metadata": {
  "kernelspec": {
   "display_name": "Python 2",
   "language": "python",
   "name": "python2"
  },
  "language_info": {
   "codemirror_mode": {
    "name": "ipython",
    "version": 2
   },
   "file_extension": ".py",
   "mimetype": "text/x-python",
   "name": "python",
   "nbconvert_exporter": "python",
   "pygments_lexer": "ipython2",
   "version": "2.7.13"
  }
 },
 "nbformat": 4,
 "nbformat_minor": 2
}
